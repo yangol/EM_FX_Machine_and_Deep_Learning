{
 "cells": [
  {
   "cell_type": "markdown",
   "metadata": {},
   "source": [
    "# Emerging Markets FX analysis"
   ]
  },
  {
   "cell_type": "code",
   "execution_count": 376,
   "metadata": {
    "ExecuteTime": {
     "end_time": "2018-02-03T19:27:47.886601Z",
     "start_time": "2018-02-03T19:27:46.487279Z"
    }
   },
   "outputs": [],
   "source": [
    "import pandas as pd \n",
    "import numpy as np \n",
    "from scipy import stats\n",
    "from sklearn.linear_model import LinearRegression\n",
    "from sklearn import linear_model\n",
    "\n",
    "import matplotlib.pyplot as plt\n",
    "import seaborn as sns\n",
    "\n",
    "# To Plot matplotlib figures inline on the notebook\n",
    "%matplotlib inline"
   ]
  },
  {
   "cell_type": "code",
   "execution_count": 377,
   "metadata": {
    "ExecuteTime": {
     "end_time": "2018-02-03T19:27:49.714391Z",
     "start_time": "2018-02-03T19:27:49.580470Z"
    }
   },
   "outputs": [
    {
     "data": {
      "text/html": [
       "<div>\n",
       "<style scoped>\n",
       "    .dataframe tbody tr th:only-of-type {\n",
       "        vertical-align: middle;\n",
       "    }\n",
       "\n",
       "    .dataframe tbody tr th {\n",
       "        vertical-align: top;\n",
       "    }\n",
       "\n",
       "    .dataframe thead th {\n",
       "        text-align: right;\n",
       "    }\n",
       "</style>\n",
       "<table border=\"1\" class=\"dataframe\">\n",
       "  <thead>\n",
       "    <tr style=\"text-align: right;\">\n",
       "      <th></th>\n",
       "      <th>BRL_FX_Spot</th>\n",
       "      <th>50d_200d_cross</th>\n",
       "      <th>CA</th>\n",
       "      <th>TB</th>\n",
       "      <th>rate</th>\n",
       "      <th>REER_discount</th>\n",
       "      <th>budget</th>\n",
       "    </tr>\n",
       "    <tr>\n",
       "      <th>Dates</th>\n",
       "      <th></th>\n",
       "      <th></th>\n",
       "      <th></th>\n",
       "      <th></th>\n",
       "      <th></th>\n",
       "      <th></th>\n",
       "      <th></th>\n",
       "    </tr>\n",
       "  </thead>\n",
       "  <tbody>\n",
       "    <tr>\n",
       "      <th>6/20/02</th>\n",
       "      <td>2.8015</td>\n",
       "      <td>1</td>\n",
       "      <td>-3.55</td>\n",
       "      <td>385</td>\n",
       "      <td>18.8514</td>\n",
       "      <td>-0.114198</td>\n",
       "      <td>-3.25</td>\n",
       "    </tr>\n",
       "    <tr>\n",
       "      <th>6/21/02</th>\n",
       "      <td>2.8305</td>\n",
       "      <td>1</td>\n",
       "      <td>-3.55</td>\n",
       "      <td>385</td>\n",
       "      <td>21.9522</td>\n",
       "      <td>-0.131145</td>\n",
       "      <td>-3.25</td>\n",
       "    </tr>\n",
       "    <tr>\n",
       "      <th>6/24/02</th>\n",
       "      <td>2.7740</td>\n",
       "      <td>1</td>\n",
       "      <td>-3.55</td>\n",
       "      <td>385</td>\n",
       "      <td>20.4583</td>\n",
       "      <td>-0.136943</td>\n",
       "      <td>-3.25</td>\n",
       "    </tr>\n",
       "    <tr>\n",
       "      <th>6/25/02</th>\n",
       "      <td>2.8290</td>\n",
       "      <td>1</td>\n",
       "      <td>-3.55</td>\n",
       "      <td>385</td>\n",
       "      <td>20.5171</td>\n",
       "      <td>-0.126762</td>\n",
       "      <td>-3.25</td>\n",
       "    </tr>\n",
       "    <tr>\n",
       "      <th>6/26/02</th>\n",
       "      <td>2.8805</td>\n",
       "      <td>1</td>\n",
       "      <td>-3.55</td>\n",
       "      <td>385</td>\n",
       "      <td>20.6130</td>\n",
       "      <td>-0.144215</td>\n",
       "      <td>-3.25</td>\n",
       "    </tr>\n",
       "  </tbody>\n",
       "</table>\n",
       "</div>"
      ],
      "text/plain": [
       "         BRL_FX_Spot  50d_200d_cross    CA   TB     rate  REER_discount  \\\n",
       "Dates                                                                     \n",
       "6/20/02       2.8015               1 -3.55  385  18.8514      -0.114198   \n",
       "6/21/02       2.8305               1 -3.55  385  21.9522      -0.131145   \n",
       "6/24/02       2.7740               1 -3.55  385  20.4583      -0.136943   \n",
       "6/25/02       2.8290               1 -3.55  385  20.5171      -0.126762   \n",
       "6/26/02       2.8805               1 -3.55  385  20.6130      -0.144215   \n",
       "\n",
       "         budget  \n",
       "Dates            \n",
       "6/20/02   -3.25  \n",
       "6/21/02   -3.25  \n",
       "6/24/02   -3.25  \n",
       "6/25/02   -3.25  \n",
       "6/26/02   -3.25  "
      ]
     },
     "execution_count": 377,
     "metadata": {},
     "output_type": "execute_result"
    }
   ],
   "source": [
    "df_original = pd.read_csv('./EM_FX_data_time_series.csv',index_col='Dates')\n",
    "df_original.head(5)"
   ]
  },
  {
   "cell_type": "code",
   "execution_count": 378,
   "metadata": {
    "ExecuteTime": {
     "end_time": "2018-02-03T19:28:11.377529Z",
     "start_time": "2018-02-03T19:28:11.372582Z"
    }
   },
   "outputs": [
    {
     "data": {
      "text/plain": [
       "(4172, 7)"
      ]
     },
     "execution_count": 378,
     "metadata": {},
     "output_type": "execute_result"
    }
   ],
   "source": [
    "df_original.shape"
   ]
  },
  {
   "cell_type": "code",
   "execution_count": 180,
   "metadata": {
    "ExecuteTime": {
     "end_time": "2018-02-03T19:28:36.398520Z",
     "start_time": "2018-02-03T19:28:36.327590Z"
    }
   },
   "outputs": [
    {
     "data": {
      "text/html": [
       "<div>\n",
       "<style scoped>\n",
       "    .dataframe tbody tr th:only-of-type {\n",
       "        vertical-align: middle;\n",
       "    }\n",
       "\n",
       "    .dataframe tbody tr th {\n",
       "        vertical-align: top;\n",
       "    }\n",
       "\n",
       "    .dataframe thead th {\n",
       "        text-align: right;\n",
       "    }\n",
       "</style>\n",
       "<table border=\"1\" class=\"dataframe\">\n",
       "  <thead>\n",
       "    <tr style=\"text-align: right;\">\n",
       "      <th></th>\n",
       "      <th>BRL_FX_Spot</th>\n",
       "      <th>50d_200d_cross</th>\n",
       "      <th>CA</th>\n",
       "      <th>TB</th>\n",
       "      <th>rate</th>\n",
       "      <th>REER_discount</th>\n",
       "      <th>budget</th>\n",
       "    </tr>\n",
       "    <tr>\n",
       "      <th>Dates</th>\n",
       "      <th></th>\n",
       "      <th></th>\n",
       "      <th></th>\n",
       "      <th></th>\n",
       "      <th></th>\n",
       "      <th></th>\n",
       "      <th></th>\n",
       "    </tr>\n",
       "  </thead>\n",
       "  <tbody>\n",
       "    <tr>\n",
       "      <th>6/11/18</th>\n",
       "      <td>3.7114</td>\n",
       "      <td>1</td>\n",
       "      <td>-0.4</td>\n",
       "      <td>5981</td>\n",
       "      <td>6.2523</td>\n",
       "      <td>-0.113685</td>\n",
       "      <td>-7.4</td>\n",
       "    </tr>\n",
       "    <tr>\n",
       "      <th>6/12/18</th>\n",
       "      <td>3.7201</td>\n",
       "      <td>1</td>\n",
       "      <td>-0.4</td>\n",
       "      <td>5981</td>\n",
       "      <td>6.1535</td>\n",
       "      <td>-0.110470</td>\n",
       "      <td>-7.4</td>\n",
       "    </tr>\n",
       "    <tr>\n",
       "      <th>6/13/18</th>\n",
       "      <td>3.7217</td>\n",
       "      <td>1</td>\n",
       "      <td>-0.4</td>\n",
       "      <td>5981</td>\n",
       "      <td>5.9313</td>\n",
       "      <td>-0.117464</td>\n",
       "      <td>-7.4</td>\n",
       "    </tr>\n",
       "    <tr>\n",
       "      <th>6/14/18</th>\n",
       "      <td>3.8062</td>\n",
       "      <td>1</td>\n",
       "      <td>-0.4</td>\n",
       "      <td>5981</td>\n",
       "      <td>6.3584</td>\n",
       "      <td>-0.109305</td>\n",
       "      <td>-7.4</td>\n",
       "    </tr>\n",
       "    <tr>\n",
       "      <th>6/15/18</th>\n",
       "      <td>3.7296</td>\n",
       "      <td>1</td>\n",
       "      <td>-0.4</td>\n",
       "      <td>5981</td>\n",
       "      <td>6.4740</td>\n",
       "      <td>-0.113787</td>\n",
       "      <td>-7.4</td>\n",
       "    </tr>\n",
       "  </tbody>\n",
       "</table>\n",
       "</div>"
      ],
      "text/plain": [
       "         BRL_FX_Spot  50d_200d_cross   CA    TB    rate  REER_discount  budget\n",
       "Dates                                                                         \n",
       "6/11/18       3.7114               1 -0.4  5981  6.2523      -0.113685    -7.4\n",
       "6/12/18       3.7201               1 -0.4  5981  6.1535      -0.110470    -7.4\n",
       "6/13/18       3.7217               1 -0.4  5981  5.9313      -0.117464    -7.4\n",
       "6/14/18       3.8062               1 -0.4  5981  6.3584      -0.109305    -7.4\n",
       "6/15/18       3.7296               1 -0.4  5981  6.4740      -0.113787    -7.4"
      ]
     },
     "execution_count": 180,
     "metadata": {},
     "output_type": "execute_result"
    }
   ],
   "source": [
    "df_original.tail()"
   ]
  },
  {
   "cell_type": "markdown",
   "metadata": {},
   "source": [
    "Basic EDA:"
   ]
  },
  {
   "cell_type": "code",
   "execution_count": 181,
   "metadata": {
    "ExecuteTime": {
     "end_time": "2018-02-03T19:28:48.705803Z",
     "start_time": "2018-02-03T19:28:48.644664Z"
    }
   },
   "outputs": [
    {
     "data": {
      "text/html": [
       "<div>\n",
       "<style scoped>\n",
       "    .dataframe tbody tr th:only-of-type {\n",
       "        vertical-align: middle;\n",
       "    }\n",
       "\n",
       "    .dataframe tbody tr th {\n",
       "        vertical-align: top;\n",
       "    }\n",
       "\n",
       "    .dataframe thead th {\n",
       "        text-align: right;\n",
       "    }\n",
       "</style>\n",
       "<table border=\"1\" class=\"dataframe\">\n",
       "  <thead>\n",
       "    <tr style=\"text-align: right;\">\n",
       "      <th></th>\n",
       "      <th>BRL_FX_Spot</th>\n",
       "      <th>50d_200d_cross</th>\n",
       "      <th>CA</th>\n",
       "      <th>TB</th>\n",
       "      <th>rate</th>\n",
       "      <th>REER_discount</th>\n",
       "      <th>budget</th>\n",
       "    </tr>\n",
       "  </thead>\n",
       "  <tbody>\n",
       "    <tr>\n",
       "      <th>count</th>\n",
       "      <td>4172.000000</td>\n",
       "      <td>4172.000000</td>\n",
       "      <td>4172.000000</td>\n",
       "      <td>4172.000000</td>\n",
       "      <td>4172.000000</td>\n",
       "      <td>4172.000000</td>\n",
       "      <td>4172.000000</td>\n",
       "    </tr>\n",
       "    <tr>\n",
       "      <th>mean</th>\n",
       "      <td>2.480028</td>\n",
       "      <td>0.432167</td>\n",
       "      <td>-1.326064</td>\n",
       "      <td>2498.139262</td>\n",
       "      <td>11.067416</td>\n",
       "      <td>0.012326</td>\n",
       "      <td>-4.318087</td>\n",
       "    </tr>\n",
       "    <tr>\n",
       "      <th>std</th>\n",
       "      <td>0.655408</td>\n",
       "      <td>0.495437</td>\n",
       "      <td>1.885970</td>\n",
       "      <td>1990.913442</td>\n",
       "      <td>4.204925</td>\n",
       "      <td>0.110455</td>\n",
       "      <td>2.433261</td>\n",
       "    </tr>\n",
       "    <tr>\n",
       "      <th>min</th>\n",
       "      <td>1.539100</td>\n",
       "      <td>0.000000</td>\n",
       "      <td>-4.370000</td>\n",
       "      <td>-4067.000000</td>\n",
       "      <td>-6.870000</td>\n",
       "      <td>-0.328794</td>\n",
       "      <td>-10.310000</td>\n",
       "    </tr>\n",
       "    <tr>\n",
       "      <th>25%</th>\n",
       "      <td>1.925900</td>\n",
       "      <td>0.000000</td>\n",
       "      <td>-3.050000</td>\n",
       "      <td>1316.000000</td>\n",
       "      <td>8.063600</td>\n",
       "      <td>-0.076465</td>\n",
       "      <td>-5.160000</td>\n",
       "    </tr>\n",
       "    <tr>\n",
       "      <th>50%</th>\n",
       "      <td>2.279700</td>\n",
       "      <td>0.000000</td>\n",
       "      <td>-1.420000</td>\n",
       "      <td>2623.000000</td>\n",
       "      <td>10.540700</td>\n",
       "      <td>0.038323</td>\n",
       "      <td>-3.160000</td>\n",
       "    </tr>\n",
       "    <tr>\n",
       "      <th>75%</th>\n",
       "      <td>3.068725</td>\n",
       "      <td>1.000000</td>\n",
       "      <td>0.650000</td>\n",
       "      <td>3690.000000</td>\n",
       "      <td>13.558050</td>\n",
       "      <td>0.089387</td>\n",
       "      <td>-2.770000</td>\n",
       "    </tr>\n",
       "    <tr>\n",
       "      <th>max</th>\n",
       "      <td>4.178300</td>\n",
       "      <td>1.000000</td>\n",
       "      <td>1.830000</td>\n",
       "      <td>7661.000000</td>\n",
       "      <td>24.450000</td>\n",
       "      <td>0.288308</td>\n",
       "      <td>-1.610000</td>\n",
       "    </tr>\n",
       "  </tbody>\n",
       "</table>\n",
       "</div>"
      ],
      "text/plain": [
       "       BRL_FX_Spot  50d_200d_cross           CA           TB         rate  \\\n",
       "count  4172.000000     4172.000000  4172.000000  4172.000000  4172.000000   \n",
       "mean      2.480028        0.432167    -1.326064  2498.139262    11.067416   \n",
       "std       0.655408        0.495437     1.885970  1990.913442     4.204925   \n",
       "min       1.539100        0.000000    -4.370000 -4067.000000    -6.870000   \n",
       "25%       1.925900        0.000000    -3.050000  1316.000000     8.063600   \n",
       "50%       2.279700        0.000000    -1.420000  2623.000000    10.540700   \n",
       "75%       3.068725        1.000000     0.650000  3690.000000    13.558050   \n",
       "max       4.178300        1.000000     1.830000  7661.000000    24.450000   \n",
       "\n",
       "       REER_discount       budget  \n",
       "count    4172.000000  4172.000000  \n",
       "mean        0.012326    -4.318087  \n",
       "std         0.110455     2.433261  \n",
       "min        -0.328794   -10.310000  \n",
       "25%        -0.076465    -5.160000  \n",
       "50%         0.038323    -3.160000  \n",
       "75%         0.089387    -2.770000  \n",
       "max         0.288308    -1.610000  "
      ]
     },
     "execution_count": 181,
     "metadata": {},
     "output_type": "execute_result"
    }
   ],
   "source": [
    "df_original.describe()"
   ]
  },
  {
   "cell_type": "markdown",
   "metadata": {},
   "source": [
    "### Test Lag from 1 to 21\n",
    "---"
   ]
  },
  {
   "cell_type": "code",
   "execution_count": 379,
   "metadata": {},
   "outputs": [
    {
     "name": "stdout",
     "output_type": "stream",
     "text": [
      "For 1 lags, the training score is 0.9974320710059862 and the testing score is 0.9959038592694834\n",
      "For 2 lags, the training score is 0.9948071092351554 and the testing score is 0.9924650259373526\n",
      "For 3 lags, the training score is 0.9927398688921496 and the testing score is 0.989532914728047\n",
      "For 4 lags, the training score is 0.9905671290605927 and the testing score is 0.9865838125585882\n",
      "For 5 lags, the training score is 0.9882818674535416 and the testing score is 0.9835234561699845\n",
      "For 6 lags, the training score is 0.9860932283940425 and the testing score is 0.9810943920506039\n",
      "For 7 lags, the training score is 0.9842439987102265 and the testing score is 0.9784621142291579\n",
      "For 8 lags, the training score is 0.9824253458694958 and the testing score is 0.9756726450127196\n",
      "For 9 lags, the training score is 0.9806810701319868 and the testing score is 0.9724890688816661\n",
      "For 10 lags, the training score is 0.9789314116519018 and the testing score is 0.9695417179966677\n",
      "For 11 lags, the training score is 0.9769723046116543 and the testing score is 0.9665493644879386\n",
      "For 12 lags, the training score is 0.9750097657277812 and the testing score is 0.963204887641091\n",
      "For 13 lags, the training score is 0.9729505193146768 and the testing score is 0.9599279624819769\n",
      "For 14 lags, the training score is 0.970781230921765 and the testing score is 0.9565785184219818\n",
      "For 15 lags, the training score is 0.9687877871802931 and the testing score is 0.9530486206655182\n",
      "For 16 lags, the training score is 0.9666288314698183 and the testing score is 0.9492579351334348\n",
      "For 17 lags, the training score is 0.964207634927964 and the testing score is 0.9454533341207421\n",
      "For 18 lags, the training score is 0.9616798724803121 and the testing score is 0.9413149255105915\n",
      "For 19 lags, the training score is 0.9594385788081597 and the testing score is 0.9373667465752743\n",
      "For 20 lags, the training score is 0.9568577107472628 and the testing score is 0.9336497243477514\n",
      "For 21 lags, the training score is 0.9543472976652863 and the testing score is 0.9295052985213536\n"
     ]
    }
   ],
   "source": [
    "# to hold results for training and testing\n",
    "training = []\n",
    "testing = []\n",
    "\n",
    "for i in range(1,22):\n",
    "    ## data preparation\n",
    "    # shift by i\n",
    "    df_original['BRL_FX_Spot_1d']=df_original['BRL_FX_Spot'].shift(i)\n",
    "    df_original['50d_200d_cross_1d']=df_original['50d_200d_cross'].shift(i)\n",
    "    df_original['CA_1d']=df_original['CA'].shift(i)\n",
    "    df_original['TB_1d']=df_original['TB'].shift(i)\n",
    "    df_original['rate_1d']=df_original['rate'].shift(i)\n",
    "    df_original['REER_discount_1d']=df_original['REER_discount'].shift(i)\n",
    "    df_original['budget_1d']=df_original['budget'].shift(i)\n",
    "    #remove all na\n",
    "    df=df_original.dropna(axis=0, how='any')\n",
    "    # drop old cols\n",
    "    df=df.drop(['50d_200d_cross','CA','TB','rate','REER_discount','budget'],axis=1)\n",
    "    \n",
    "    ## training preparation\n",
    "    # separate X and Y\n",
    "    y=df['BRL_FX_Spot']\n",
    "    X=df.drop('BRL_FX_Spot', axis=1) \n",
    "    \n",
    "    # train and test splitting by order\n",
    "    split=int(round(X.shape[0]*0.7,0))\n",
    "    end=int(round(X.shape[0],0))+1\n",
    "    X_train=X.iloc[0:split]\n",
    "    y_train=y.iloc[0:split]\n",
    "    X_test=X.iloc[split:end]\n",
    "    y_test=y.iloc[split:end]\n",
    "   \n",
    "    ## training\n",
    "    # perform linear fitting\n",
    "    lr_model1 = LinearRegression()\n",
    "    lr_model1.fit(X_train,y_train)\n",
    "    \n",
    "    ## generate results\n",
    "\n",
    "    # generate score for training and testing\n",
    "    train_score = lr_model1.score(X_train,y_train)\n",
    "    test_score = lr_model1.score(X_test,y_test)\n",
    "    training.append(train_score)\n",
    "    testing.append(test_score)\n",
    "    \n",
    "    # temp print result\n",
    "    print(\"For {0} lags, the training score is {1} and the testing score is {2}\".format(i, train_score, test_score ))"
   ]
  },
  {
   "cell_type": "code",
   "execution_count": 380,
   "metadata": {},
   "outputs": [
    {
     "data": {
      "text/html": [
       "<div>\n",
       "<style scoped>\n",
       "    .dataframe tbody tr th:only-of-type {\n",
       "        vertical-align: middle;\n",
       "    }\n",
       "\n",
       "    .dataframe tbody tr th {\n",
       "        vertical-align: top;\n",
       "    }\n",
       "\n",
       "    .dataframe thead th {\n",
       "        text-align: right;\n",
       "    }\n",
       "</style>\n",
       "<table border=\"1\" class=\"dataframe\">\n",
       "  <thead>\n",
       "    <tr style=\"text-align: right;\">\n",
       "      <th></th>\n",
       "      <th>BRL_FX_Spot</th>\n",
       "      <th>50d_200d_cross</th>\n",
       "      <th>CA</th>\n",
       "      <th>TB</th>\n",
       "      <th>rate</th>\n",
       "      <th>REER_discount</th>\n",
       "      <th>budget</th>\n",
       "      <th>BRL_FX_Spot_1d</th>\n",
       "      <th>50d_200d_cross_1d</th>\n",
       "      <th>CA_1d</th>\n",
       "      <th>TB_1d</th>\n",
       "      <th>rate_1d</th>\n",
       "      <th>REER_discount_1d</th>\n",
       "      <th>budget_1d</th>\n",
       "    </tr>\n",
       "    <tr>\n",
       "      <th>Dates</th>\n",
       "      <th></th>\n",
       "      <th></th>\n",
       "      <th></th>\n",
       "      <th></th>\n",
       "      <th></th>\n",
       "      <th></th>\n",
       "      <th></th>\n",
       "      <th></th>\n",
       "      <th></th>\n",
       "      <th></th>\n",
       "      <th></th>\n",
       "      <th></th>\n",
       "      <th></th>\n",
       "      <th></th>\n",
       "    </tr>\n",
       "  </thead>\n",
       "  <tbody>\n",
       "    <tr>\n",
       "      <th>6/20/02</th>\n",
       "      <td>2.8015</td>\n",
       "      <td>1</td>\n",
       "      <td>-3.55</td>\n",
       "      <td>385</td>\n",
       "      <td>18.8514</td>\n",
       "      <td>-0.114198</td>\n",
       "      <td>-3.25</td>\n",
       "      <td>NaN</td>\n",
       "      <td>NaN</td>\n",
       "      <td>NaN</td>\n",
       "      <td>NaN</td>\n",
       "      <td>NaN</td>\n",
       "      <td>NaN</td>\n",
       "      <td>NaN</td>\n",
       "    </tr>\n",
       "    <tr>\n",
       "      <th>6/21/02</th>\n",
       "      <td>2.8305</td>\n",
       "      <td>1</td>\n",
       "      <td>-3.55</td>\n",
       "      <td>385</td>\n",
       "      <td>21.9522</td>\n",
       "      <td>-0.131145</td>\n",
       "      <td>-3.25</td>\n",
       "      <td>NaN</td>\n",
       "      <td>NaN</td>\n",
       "      <td>NaN</td>\n",
       "      <td>NaN</td>\n",
       "      <td>NaN</td>\n",
       "      <td>NaN</td>\n",
       "      <td>NaN</td>\n",
       "    </tr>\n",
       "    <tr>\n",
       "      <th>6/24/02</th>\n",
       "      <td>2.7740</td>\n",
       "      <td>1</td>\n",
       "      <td>-3.55</td>\n",
       "      <td>385</td>\n",
       "      <td>20.4583</td>\n",
       "      <td>-0.136943</td>\n",
       "      <td>-3.25</td>\n",
       "      <td>NaN</td>\n",
       "      <td>NaN</td>\n",
       "      <td>NaN</td>\n",
       "      <td>NaN</td>\n",
       "      <td>NaN</td>\n",
       "      <td>NaN</td>\n",
       "      <td>NaN</td>\n",
       "    </tr>\n",
       "    <tr>\n",
       "      <th>6/25/02</th>\n",
       "      <td>2.8290</td>\n",
       "      <td>1</td>\n",
       "      <td>-3.55</td>\n",
       "      <td>385</td>\n",
       "      <td>20.5171</td>\n",
       "      <td>-0.126762</td>\n",
       "      <td>-3.25</td>\n",
       "      <td>NaN</td>\n",
       "      <td>NaN</td>\n",
       "      <td>NaN</td>\n",
       "      <td>NaN</td>\n",
       "      <td>NaN</td>\n",
       "      <td>NaN</td>\n",
       "      <td>NaN</td>\n",
       "    </tr>\n",
       "    <tr>\n",
       "      <th>6/26/02</th>\n",
       "      <td>2.8805</td>\n",
       "      <td>1</td>\n",
       "      <td>-3.55</td>\n",
       "      <td>385</td>\n",
       "      <td>20.6130</td>\n",
       "      <td>-0.144215</td>\n",
       "      <td>-3.25</td>\n",
       "      <td>NaN</td>\n",
       "      <td>NaN</td>\n",
       "      <td>NaN</td>\n",
       "      <td>NaN</td>\n",
       "      <td>NaN</td>\n",
       "      <td>NaN</td>\n",
       "      <td>NaN</td>\n",
       "    </tr>\n",
       "  </tbody>\n",
       "</table>\n",
       "</div>"
      ],
      "text/plain": [
       "         BRL_FX_Spot  50d_200d_cross    CA   TB     rate  REER_discount  \\\n",
       "Dates                                                                     \n",
       "6/20/02       2.8015               1 -3.55  385  18.8514      -0.114198   \n",
       "6/21/02       2.8305               1 -3.55  385  21.9522      -0.131145   \n",
       "6/24/02       2.7740               1 -3.55  385  20.4583      -0.136943   \n",
       "6/25/02       2.8290               1 -3.55  385  20.5171      -0.126762   \n",
       "6/26/02       2.8805               1 -3.55  385  20.6130      -0.144215   \n",
       "\n",
       "         budget  BRL_FX_Spot_1d  50d_200d_cross_1d  CA_1d  TB_1d  rate_1d  \\\n",
       "Dates                                                                       \n",
       "6/20/02   -3.25             NaN                NaN    NaN    NaN      NaN   \n",
       "6/21/02   -3.25             NaN                NaN    NaN    NaN      NaN   \n",
       "6/24/02   -3.25             NaN                NaN    NaN    NaN      NaN   \n",
       "6/25/02   -3.25             NaN                NaN    NaN    NaN      NaN   \n",
       "6/26/02   -3.25             NaN                NaN    NaN    NaN      NaN   \n",
       "\n",
       "         REER_discount_1d  budget_1d  \n",
       "Dates                                 \n",
       "6/20/02               NaN        NaN  \n",
       "6/21/02               NaN        NaN  \n",
       "6/24/02               NaN        NaN  \n",
       "6/25/02               NaN        NaN  \n",
       "6/26/02               NaN        NaN  "
      ]
     },
     "execution_count": 380,
     "metadata": {},
     "output_type": "execute_result"
    }
   ],
   "source": [
    "df_original.head(5)"
   ]
  },
  {
   "cell_type": "markdown",
   "metadata": {},
   "source": [
    "## The end of Lag test: need to perform TS.\n",
    "---"
   ]
  },
  {
   "cell_type": "markdown",
   "metadata": {},
   "source": [
    "### Linear model on return"
   ]
  },
  {
   "cell_type": "code",
   "execution_count": 414,
   "metadata": {},
   "outputs": [
    {
     "data": {
      "text/html": [
       "<div>\n",
       "<style scoped>\n",
       "    .dataframe tbody tr th:only-of-type {\n",
       "        vertical-align: middle;\n",
       "    }\n",
       "\n",
       "    .dataframe tbody tr th {\n",
       "        vertical-align: top;\n",
       "    }\n",
       "\n",
       "    .dataframe thead th {\n",
       "        text-align: right;\n",
       "    }\n",
       "</style>\n",
       "<table border=\"1\" class=\"dataframe\">\n",
       "  <thead>\n",
       "    <tr style=\"text-align: right;\">\n",
       "      <th></th>\n",
       "      <th>BRL_FX_Spot</th>\n",
       "      <th>50d_200d_cross</th>\n",
       "      <th>CA</th>\n",
       "      <th>TB</th>\n",
       "      <th>rate</th>\n",
       "      <th>REER_discount</th>\n",
       "      <th>budget</th>\n",
       "    </tr>\n",
       "    <tr>\n",
       "      <th>Dates</th>\n",
       "      <th></th>\n",
       "      <th></th>\n",
       "      <th></th>\n",
       "      <th></th>\n",
       "      <th></th>\n",
       "      <th></th>\n",
       "      <th></th>\n",
       "    </tr>\n",
       "  </thead>\n",
       "  <tbody>\n",
       "    <tr>\n",
       "      <th>6/20/02</th>\n",
       "      <td>2.8015</td>\n",
       "      <td>1</td>\n",
       "      <td>-3.55</td>\n",
       "      <td>385</td>\n",
       "      <td>18.8514</td>\n",
       "      <td>-0.114198</td>\n",
       "      <td>-3.25</td>\n",
       "    </tr>\n",
       "    <tr>\n",
       "      <th>6/21/02</th>\n",
       "      <td>2.8305</td>\n",
       "      <td>1</td>\n",
       "      <td>-3.55</td>\n",
       "      <td>385</td>\n",
       "      <td>21.9522</td>\n",
       "      <td>-0.131145</td>\n",
       "      <td>-3.25</td>\n",
       "    </tr>\n",
       "    <tr>\n",
       "      <th>6/24/02</th>\n",
       "      <td>2.7740</td>\n",
       "      <td>1</td>\n",
       "      <td>-3.55</td>\n",
       "      <td>385</td>\n",
       "      <td>20.4583</td>\n",
       "      <td>-0.136943</td>\n",
       "      <td>-3.25</td>\n",
       "    </tr>\n",
       "    <tr>\n",
       "      <th>6/25/02</th>\n",
       "      <td>2.8290</td>\n",
       "      <td>1</td>\n",
       "      <td>-3.55</td>\n",
       "      <td>385</td>\n",
       "      <td>20.5171</td>\n",
       "      <td>-0.126762</td>\n",
       "      <td>-3.25</td>\n",
       "    </tr>\n",
       "    <tr>\n",
       "      <th>6/26/02</th>\n",
       "      <td>2.8805</td>\n",
       "      <td>1</td>\n",
       "      <td>-3.55</td>\n",
       "      <td>385</td>\n",
       "      <td>20.6130</td>\n",
       "      <td>-0.144215</td>\n",
       "      <td>-3.25</td>\n",
       "    </tr>\n",
       "  </tbody>\n",
       "</table>\n",
       "</div>"
      ],
      "text/plain": [
       "         BRL_FX_Spot  50d_200d_cross    CA   TB     rate  REER_discount  \\\n",
       "Dates                                                                     \n",
       "6/20/02       2.8015               1 -3.55  385  18.8514      -0.114198   \n",
       "6/21/02       2.8305               1 -3.55  385  21.9522      -0.131145   \n",
       "6/24/02       2.7740               1 -3.55  385  20.4583      -0.136943   \n",
       "6/25/02       2.8290               1 -3.55  385  20.5171      -0.126762   \n",
       "6/26/02       2.8805               1 -3.55  385  20.6130      -0.144215   \n",
       "\n",
       "         budget  \n",
       "Dates            \n",
       "6/20/02   -3.25  \n",
       "6/21/02   -3.25  \n",
       "6/24/02   -3.25  \n",
       "6/25/02   -3.25  \n",
       "6/26/02   -3.25  "
      ]
     },
     "execution_count": 414,
     "metadata": {},
     "output_type": "execute_result"
    }
   ],
   "source": [
    "df_original = pd.read_csv('./EM_FX_data_time_series.csv',index_col='Dates')\n",
    "df_original.head(5)"
   ]
  },
  {
   "cell_type": "code",
   "execution_count": 415,
   "metadata": {},
   "outputs": [
    {
     "data": {
      "text/html": [
       "<div>\n",
       "<style scoped>\n",
       "    .dataframe tbody tr th:only-of-type {\n",
       "        vertical-align: middle;\n",
       "    }\n",
       "\n",
       "    .dataframe tbody tr th {\n",
       "        vertical-align: top;\n",
       "    }\n",
       "\n",
       "    .dataframe thead th {\n",
       "        text-align: right;\n",
       "    }\n",
       "</style>\n",
       "<table border=\"1\" class=\"dataframe\">\n",
       "  <thead>\n",
       "    <tr style=\"text-align: right;\">\n",
       "      <th></th>\n",
       "      <th>BRL_FX_Spot</th>\n",
       "      <th>50d_200d_cross</th>\n",
       "      <th>CA</th>\n",
       "      <th>TB</th>\n",
       "      <th>rate</th>\n",
       "      <th>REER_discount</th>\n",
       "      <th>budget</th>\n",
       "      <th>BRL_FX_Spot_ret</th>\n",
       "      <th>CA_diff_lgd</th>\n",
       "      <th>TB_1gd</th>\n",
       "      <th>rate_diff_lgd</th>\n",
       "      <th>REER_discount_lgd</th>\n",
       "      <th>budget_diff_lgd</th>\n",
       "    </tr>\n",
       "    <tr>\n",
       "      <th>Dates</th>\n",
       "      <th></th>\n",
       "      <th></th>\n",
       "      <th></th>\n",
       "      <th></th>\n",
       "      <th></th>\n",
       "      <th></th>\n",
       "      <th></th>\n",
       "      <th></th>\n",
       "      <th></th>\n",
       "      <th></th>\n",
       "      <th></th>\n",
       "      <th></th>\n",
       "      <th></th>\n",
       "    </tr>\n",
       "  </thead>\n",
       "  <tbody>\n",
       "    <tr>\n",
       "      <th>6/20/02</th>\n",
       "      <td>2.8015</td>\n",
       "      <td>1</td>\n",
       "      <td>-3.55</td>\n",
       "      <td>385</td>\n",
       "      <td>18.8514</td>\n",
       "      <td>-0.114198</td>\n",
       "      <td>-3.25</td>\n",
       "      <td>NaN</td>\n",
       "      <td>NaN</td>\n",
       "      <td>NaN</td>\n",
       "      <td>NaN</td>\n",
       "      <td>NaN</td>\n",
       "      <td>NaN</td>\n",
       "    </tr>\n",
       "    <tr>\n",
       "      <th>6/21/02</th>\n",
       "      <td>2.8305</td>\n",
       "      <td>1</td>\n",
       "      <td>-3.55</td>\n",
       "      <td>385</td>\n",
       "      <td>21.9522</td>\n",
       "      <td>-0.131145</td>\n",
       "      <td>-3.25</td>\n",
       "      <td>NaN</td>\n",
       "      <td>NaN</td>\n",
       "      <td>NaN</td>\n",
       "      <td>NaN</td>\n",
       "      <td>NaN</td>\n",
       "      <td>NaN</td>\n",
       "    </tr>\n",
       "    <tr>\n",
       "      <th>6/24/02</th>\n",
       "      <td>2.7740</td>\n",
       "      <td>1</td>\n",
       "      <td>-3.55</td>\n",
       "      <td>385</td>\n",
       "      <td>20.4583</td>\n",
       "      <td>-0.136943</td>\n",
       "      <td>-3.25</td>\n",
       "      <td>NaN</td>\n",
       "      <td>NaN</td>\n",
       "      <td>NaN</td>\n",
       "      <td>NaN</td>\n",
       "      <td>NaN</td>\n",
       "      <td>NaN</td>\n",
       "    </tr>\n",
       "    <tr>\n",
       "      <th>6/25/02</th>\n",
       "      <td>2.8290</td>\n",
       "      <td>1</td>\n",
       "      <td>-3.55</td>\n",
       "      <td>385</td>\n",
       "      <td>20.5171</td>\n",
       "      <td>-0.126762</td>\n",
       "      <td>-3.25</td>\n",
       "      <td>NaN</td>\n",
       "      <td>NaN</td>\n",
       "      <td>NaN</td>\n",
       "      <td>NaN</td>\n",
       "      <td>NaN</td>\n",
       "      <td>NaN</td>\n",
       "    </tr>\n",
       "    <tr>\n",
       "      <th>6/26/02</th>\n",
       "      <td>2.8805</td>\n",
       "      <td>1</td>\n",
       "      <td>-3.55</td>\n",
       "      <td>385</td>\n",
       "      <td>20.6130</td>\n",
       "      <td>-0.144215</td>\n",
       "      <td>-3.25</td>\n",
       "      <td>NaN</td>\n",
       "      <td>NaN</td>\n",
       "      <td>NaN</td>\n",
       "      <td>NaN</td>\n",
       "      <td>NaN</td>\n",
       "      <td>NaN</td>\n",
       "    </tr>\n",
       "  </tbody>\n",
       "</table>\n",
       "</div>"
      ],
      "text/plain": [
       "         BRL_FX_Spot  50d_200d_cross    CA   TB     rate  REER_discount  \\\n",
       "Dates                                                                     \n",
       "6/20/02       2.8015               1 -3.55  385  18.8514      -0.114198   \n",
       "6/21/02       2.8305               1 -3.55  385  21.9522      -0.131145   \n",
       "6/24/02       2.7740               1 -3.55  385  20.4583      -0.136943   \n",
       "6/25/02       2.8290               1 -3.55  385  20.5171      -0.126762   \n",
       "6/26/02       2.8805               1 -3.55  385  20.6130      -0.144215   \n",
       "\n",
       "         budget  BRL_FX_Spot_ret  CA_diff_lgd  TB_1gd  rate_diff_lgd  \\\n",
       "Dates                                                                  \n",
       "6/20/02   -3.25              NaN          NaN     NaN            NaN   \n",
       "6/21/02   -3.25              NaN          NaN     NaN            NaN   \n",
       "6/24/02   -3.25              NaN          NaN     NaN            NaN   \n",
       "6/25/02   -3.25              NaN          NaN     NaN            NaN   \n",
       "6/26/02   -3.25              NaN          NaN     NaN            NaN   \n",
       "\n",
       "         REER_discount_lgd  budget_diff_lgd  \n",
       "Dates                                        \n",
       "6/20/02                NaN              NaN  \n",
       "6/21/02                NaN              NaN  \n",
       "6/24/02                NaN              NaN  \n",
       "6/25/02                NaN              NaN  \n",
       "6/26/02                NaN              NaN  "
      ]
     },
     "execution_count": 415,
     "metadata": {},
     "output_type": "execute_result"
    }
   ],
   "source": [
    "w=7\n",
    "\n",
    "i=21\n",
    "df=df_original.copy()\n",
    "df['BRL_FX_Spot_ret'] = np.log(1/df_original['BRL_FX_Spot']).diff(w)  \n",
    "#df_original['BRL_FX_Spot_ret'] = (1/df_original['BRL_FX_Spot']).diff(i).iloc[i:] \n",
    "#df['50d_200d_cross_lgd']=df_original['50d_200d_cross'].shift(i)\n",
    "df['CA_diff_lgd']=df_original['CA'].diff(i).shift(i)\n",
    "df['TB_1gd']=df_original['TB'].diff(i).shift(i)\n",
    "df['rate_diff_lgd']=df_original['rate'].diff(i).shift(i)\n",
    "df['REER_discount_lgd']=df_original['REER_discount'].diff(i).shift(i)\n",
    "df['budget_diff_lgd']=df_original['budget'].diff(i).shift(i)\n",
    "df.head(5)"
   ]
  },
  {
   "cell_type": "code",
   "execution_count": 417,
   "metadata": {},
   "outputs": [
    {
     "data": {
      "text/html": [
       "<div>\n",
       "<style scoped>\n",
       "    .dataframe tbody tr th:only-of-type {\n",
       "        vertical-align: middle;\n",
       "    }\n",
       "\n",
       "    .dataframe tbody tr th {\n",
       "        vertical-align: top;\n",
       "    }\n",
       "\n",
       "    .dataframe thead th {\n",
       "        text-align: right;\n",
       "    }\n",
       "</style>\n",
       "<table border=\"1\" class=\"dataframe\">\n",
       "  <thead>\n",
       "    <tr style=\"text-align: right;\">\n",
       "      <th></th>\n",
       "      <th>BRL_FX_Spot</th>\n",
       "      <th>50d_200d_cross</th>\n",
       "      <th>CA</th>\n",
       "      <th>TB</th>\n",
       "      <th>rate</th>\n",
       "      <th>REER_discount</th>\n",
       "      <th>budget</th>\n",
       "      <th>BRL_FX_Spot_ret</th>\n",
       "      <th>CA_diff_lgd</th>\n",
       "      <th>TB_1gd</th>\n",
       "      <th>rate_diff_lgd</th>\n",
       "      <th>REER_discount_lgd</th>\n",
       "      <th>budget_diff_lgd</th>\n",
       "    </tr>\n",
       "    <tr>\n",
       "      <th>Dates</th>\n",
       "      <th></th>\n",
       "      <th></th>\n",
       "      <th></th>\n",
       "      <th></th>\n",
       "      <th></th>\n",
       "      <th></th>\n",
       "      <th></th>\n",
       "      <th></th>\n",
       "      <th></th>\n",
       "      <th></th>\n",
       "      <th></th>\n",
       "      <th></th>\n",
       "      <th></th>\n",
       "    </tr>\n",
       "  </thead>\n",
       "  <tbody>\n",
       "    <tr>\n",
       "      <th>8/19/02</th>\n",
       "      <td>3.1010</td>\n",
       "      <td>1</td>\n",
       "      <td>-3.28</td>\n",
       "      <td>1206</td>\n",
       "      <td>6.3917</td>\n",
       "      <td>-0.177872</td>\n",
       "      <td>-3.55</td>\n",
       "      <td>-0.077761</td>\n",
       "      <td>0.27</td>\n",
       "      <td>300.0</td>\n",
       "      <td>-9.3247</td>\n",
       "      <td>-0.033336</td>\n",
       "      <td>-0.3</td>\n",
       "    </tr>\n",
       "    <tr>\n",
       "      <th>8/20/02</th>\n",
       "      <td>3.0985</td>\n",
       "      <td>1</td>\n",
       "      <td>-3.28</td>\n",
       "      <td>1206</td>\n",
       "      <td>6.3917</td>\n",
       "      <td>-0.177610</td>\n",
       "      <td>-3.55</td>\n",
       "      <td>-0.065346</td>\n",
       "      <td>0.27</td>\n",
       "      <td>300.0</td>\n",
       "      <td>-14.4844</td>\n",
       "      <td>-0.016620</td>\n",
       "      <td>-0.3</td>\n",
       "    </tr>\n",
       "    <tr>\n",
       "      <th>8/21/02</th>\n",
       "      <td>3.0810</td>\n",
       "      <td>1</td>\n",
       "      <td>-3.28</td>\n",
       "      <td>1206</td>\n",
       "      <td>9.6574</td>\n",
       "      <td>-0.175809</td>\n",
       "      <td>-3.55</td>\n",
       "      <td>-0.052815</td>\n",
       "      <td>0.27</td>\n",
       "      <td>300.0</td>\n",
       "      <td>-14.2020</td>\n",
       "      <td>-0.012414</td>\n",
       "      <td>-0.3</td>\n",
       "    </tr>\n",
       "    <tr>\n",
       "      <th>8/22/02</th>\n",
       "      <td>3.1395</td>\n",
       "      <td>1</td>\n",
       "      <td>-3.28</td>\n",
       "      <td>1206</td>\n",
       "      <td>6.8594</td>\n",
       "      <td>-0.196887</td>\n",
       "      <td>-3.55</td>\n",
       "      <td>-0.064464</td>\n",
       "      <td>0.27</td>\n",
       "      <td>300.0</td>\n",
       "      <td>-14.5186</td>\n",
       "      <td>-0.029776</td>\n",
       "      <td>-0.3</td>\n",
       "    </tr>\n",
       "    <tr>\n",
       "      <th>8/23/02</th>\n",
       "      <td>3.1080</td>\n",
       "      <td>1</td>\n",
       "      <td>-3.28</td>\n",
       "      <td>1206</td>\n",
       "      <td>7.1914</td>\n",
       "      <td>-0.176468</td>\n",
       "      <td>-3.55</td>\n",
       "      <td>-0.036868</td>\n",
       "      <td>0.27</td>\n",
       "      <td>300.0</td>\n",
       "      <td>-14.8916</td>\n",
       "      <td>-0.030703</td>\n",
       "      <td>-0.3</td>\n",
       "    </tr>\n",
       "  </tbody>\n",
       "</table>\n",
       "</div>"
      ],
      "text/plain": [
       "         BRL_FX_Spot  50d_200d_cross    CA    TB    rate  REER_discount  \\\n",
       "Dates                                                                     \n",
       "8/19/02       3.1010               1 -3.28  1206  6.3917      -0.177872   \n",
       "8/20/02       3.0985               1 -3.28  1206  6.3917      -0.177610   \n",
       "8/21/02       3.0810               1 -3.28  1206  9.6574      -0.175809   \n",
       "8/22/02       3.1395               1 -3.28  1206  6.8594      -0.196887   \n",
       "8/23/02       3.1080               1 -3.28  1206  7.1914      -0.176468   \n",
       "\n",
       "         budget  BRL_FX_Spot_ret  CA_diff_lgd  TB_1gd  rate_diff_lgd  \\\n",
       "Dates                                                                  \n",
       "8/19/02   -3.55        -0.077761         0.27   300.0        -9.3247   \n",
       "8/20/02   -3.55        -0.065346         0.27   300.0       -14.4844   \n",
       "8/21/02   -3.55        -0.052815         0.27   300.0       -14.2020   \n",
       "8/22/02   -3.55        -0.064464         0.27   300.0       -14.5186   \n",
       "8/23/02   -3.55        -0.036868         0.27   300.0       -14.8916   \n",
       "\n",
       "         REER_discount_lgd  budget_diff_lgd  \n",
       "Dates                                        \n",
       "8/19/02          -0.033336             -0.3  \n",
       "8/20/02          -0.016620             -0.3  \n",
       "8/21/02          -0.012414             -0.3  \n",
       "8/22/02          -0.029776             -0.3  \n",
       "8/23/02          -0.030703             -0.3  "
      ]
     },
     "execution_count": 417,
     "metadata": {},
     "output_type": "execute_result"
    }
   ],
   "source": [
    "#remove all na\n",
    "df.dropna(axis=0, how='any',inplace=True)\n",
    "df.head(5)"
   ]
  },
  {
   "cell_type": "code",
   "execution_count": 418,
   "metadata": {},
   "outputs": [
    {
     "data": {
      "text/html": [
       "<div>\n",
       "<style scoped>\n",
       "    .dataframe tbody tr th:only-of-type {\n",
       "        vertical-align: middle;\n",
       "    }\n",
       "\n",
       "    .dataframe tbody tr th {\n",
       "        vertical-align: top;\n",
       "    }\n",
       "\n",
       "    .dataframe thead th {\n",
       "        text-align: right;\n",
       "    }\n",
       "</style>\n",
       "<table border=\"1\" class=\"dataframe\">\n",
       "  <thead>\n",
       "    <tr style=\"text-align: right;\">\n",
       "      <th></th>\n",
       "      <th>BRL_FX_Spot_ret</th>\n",
       "      <th>CA_diff_lgd</th>\n",
       "      <th>TB_1gd</th>\n",
       "      <th>rate_diff_lgd</th>\n",
       "      <th>REER_discount_lgd</th>\n",
       "      <th>budget_diff_lgd</th>\n",
       "    </tr>\n",
       "    <tr>\n",
       "      <th>Dates</th>\n",
       "      <th></th>\n",
       "      <th></th>\n",
       "      <th></th>\n",
       "      <th></th>\n",
       "      <th></th>\n",
       "      <th></th>\n",
       "    </tr>\n",
       "  </thead>\n",
       "  <tbody>\n",
       "    <tr>\n",
       "      <th>8/19/02</th>\n",
       "      <td>-0.077761</td>\n",
       "      <td>0.27</td>\n",
       "      <td>300.0</td>\n",
       "      <td>-9.3247</td>\n",
       "      <td>-0.033336</td>\n",
       "      <td>-0.3</td>\n",
       "    </tr>\n",
       "    <tr>\n",
       "      <th>8/20/02</th>\n",
       "      <td>-0.065346</td>\n",
       "      <td>0.27</td>\n",
       "      <td>300.0</td>\n",
       "      <td>-14.4844</td>\n",
       "      <td>-0.016620</td>\n",
       "      <td>-0.3</td>\n",
       "    </tr>\n",
       "    <tr>\n",
       "      <th>8/21/02</th>\n",
       "      <td>-0.052815</td>\n",
       "      <td>0.27</td>\n",
       "      <td>300.0</td>\n",
       "      <td>-14.2020</td>\n",
       "      <td>-0.012414</td>\n",
       "      <td>-0.3</td>\n",
       "    </tr>\n",
       "    <tr>\n",
       "      <th>8/22/02</th>\n",
       "      <td>-0.064464</td>\n",
       "      <td>0.27</td>\n",
       "      <td>300.0</td>\n",
       "      <td>-14.5186</td>\n",
       "      <td>-0.029776</td>\n",
       "      <td>-0.3</td>\n",
       "    </tr>\n",
       "    <tr>\n",
       "      <th>8/23/02</th>\n",
       "      <td>-0.036868</td>\n",
       "      <td>0.27</td>\n",
       "      <td>300.0</td>\n",
       "      <td>-14.8916</td>\n",
       "      <td>-0.030703</td>\n",
       "      <td>-0.3</td>\n",
       "    </tr>\n",
       "  </tbody>\n",
       "</table>\n",
       "</div>"
      ],
      "text/plain": [
       "         BRL_FX_Spot_ret  CA_diff_lgd  TB_1gd  rate_diff_lgd  \\\n",
       "Dates                                                          \n",
       "8/19/02        -0.077761         0.27   300.0        -9.3247   \n",
       "8/20/02        -0.065346         0.27   300.0       -14.4844   \n",
       "8/21/02        -0.052815         0.27   300.0       -14.2020   \n",
       "8/22/02        -0.064464         0.27   300.0       -14.5186   \n",
       "8/23/02        -0.036868         0.27   300.0       -14.8916   \n",
       "\n",
       "         REER_discount_lgd  budget_diff_lgd  \n",
       "Dates                                        \n",
       "8/19/02          -0.033336             -0.3  \n",
       "8/20/02          -0.016620             -0.3  \n",
       "8/21/02          -0.012414             -0.3  \n",
       "8/22/02          -0.029776             -0.3  \n",
       "8/23/02          -0.030703             -0.3  "
      ]
     },
     "execution_count": 418,
     "metadata": {},
     "output_type": "execute_result"
    }
   ],
   "source": [
    "\n",
    "#drop old cols\n",
    "df=df.drop(['BRL_FX_Spot','50d_200d_cross','CA','TB','rate','REER_discount','budget'],axis=1)\n",
    "#replace zeros by na and then impute using pad i.e. previous value\n",
    "df.head(5)\n"
   ]
  },
  {
   "cell_type": "code",
   "execution_count": 419,
   "metadata": {},
   "outputs": [],
   "source": [
    "## training preparation\n",
    "# separate X and Y\n",
    "y=df['BRL_FX_Spot_ret']\n",
    "X=df.drop('BRL_FX_Spot_ret', axis=1) \n"
   ]
  },
  {
   "cell_type": "code",
   "execution_count": 420,
   "metadata": {},
   "outputs": [],
   "source": [
    "\n",
    "# train and test splitting by order\n",
    "split=int(round(X.shape[0]*0.7,0))\n",
    "end=int(round(X.shape[0],0))+1\n",
    "X_train=X.iloc[0:split]\n",
    "y_train=y.iloc[0:split]\n",
    "X_test=X.iloc[split:end]\n",
    "y_test=y.iloc[split:end]"
   ]
  },
  {
   "cell_type": "code",
   "execution_count": 421,
   "metadata": {},
   "outputs": [
    {
     "name": "stdout",
     "output_type": "stream",
     "text": [
      "The training score is 0.023546235422732265 and the testing score is -0.15730641781641896\n"
     ]
    }
   ],
   "source": [
    "## training\n",
    "# perform linear fitting\n",
    "lr_model1 = LinearRegression()\n",
    "lr_model1.fit(X_train,y_train)\n",
    "\n",
    "## generate results\n",
    "\n",
    "# generate score for training and testing\n",
    "train_score = lr_model1.score(X_train,y_train)\n",
    "test_score = lr_model1.score(X_test,y_test)\n",
    "\n",
    "print(\"The training score is {0} and the testing score is {1}\".format(train_score, test_score ))"
   ]
  },
  {
   "cell_type": "markdown",
   "metadata": {},
   "source": [
    "### Testing different lags"
   ]
  },
  {
   "cell_type": "code",
   "execution_count": 413,
   "metadata": {},
   "outputs": [
    {
     "name": "stdout",
     "output_type": "stream",
     "text": [
      "For 1 lags, the training score is 0.0038050795937293325 and the testing score is 0.002254524642119504\n"
     ]
    },
    {
     "ename": "ValueError",
     "evalue": "labels ['BRL_FX_Spot' '50d_200d_cross' 'CA' 'TB' 'rate' 'REER_discount' 'budget'] not contained in axis",
     "output_type": "error",
     "traceback": [
      "\u001b[0;31m---------------------------------------------------------------------------\u001b[0m",
      "\u001b[0;31mValueError\u001b[0m                                Traceback (most recent call last)",
      "\u001b[0;32m<ipython-input-413-3002364b2852>\u001b[0m in \u001b[0;36m<module>\u001b[0;34m()\u001b[0m\n\u001b[1;32m     17\u001b[0m \u001b[0;34m\u001b[0m\u001b[0m\n\u001b[1;32m     18\u001b[0m     \u001b[0;31m#drop old cols\u001b[0m\u001b[0;34m\u001b[0m\u001b[0;34m\u001b[0m\u001b[0m\n\u001b[0;32m---> 19\u001b[0;31m     \u001b[0mdf\u001b[0m\u001b[0;34m=\u001b[0m\u001b[0mdf\u001b[0m\u001b[0;34m.\u001b[0m\u001b[0mdrop\u001b[0m\u001b[0;34m(\u001b[0m\u001b[0;34m[\u001b[0m\u001b[0;34m'BRL_FX_Spot'\u001b[0m\u001b[0;34m,\u001b[0m\u001b[0;34m'50d_200d_cross'\u001b[0m\u001b[0;34m,\u001b[0m\u001b[0;34m'CA'\u001b[0m\u001b[0;34m,\u001b[0m\u001b[0;34m'TB'\u001b[0m\u001b[0;34m,\u001b[0m\u001b[0;34m'rate'\u001b[0m\u001b[0;34m,\u001b[0m\u001b[0;34m'REER_discount'\u001b[0m\u001b[0;34m,\u001b[0m\u001b[0;34m'budget'\u001b[0m\u001b[0;34m]\u001b[0m\u001b[0;34m,\u001b[0m\u001b[0maxis\u001b[0m\u001b[0;34m=\u001b[0m\u001b[0;36m1\u001b[0m\u001b[0;34m)\u001b[0m\u001b[0;34m\u001b[0m\u001b[0m\n\u001b[0m\u001b[1;32m     20\u001b[0m \u001b[0;34m\u001b[0m\u001b[0m\n\u001b[1;32m     21\u001b[0m     \u001b[0;31m## training preparation\u001b[0m\u001b[0;34m\u001b[0m\u001b[0;34m\u001b[0m\u001b[0m\n",
      "\u001b[0;32m~/anaconda3/lib/python3.6/site-packages/pandas/core/generic.py\u001b[0m in \u001b[0;36mdrop\u001b[0;34m(self, labels, axis, index, columns, level, inplace, errors)\u001b[0m\n\u001b[1;32m   2528\u001b[0m         \u001b[0;32mfor\u001b[0m \u001b[0maxis\u001b[0m\u001b[0;34m,\u001b[0m \u001b[0mlabels\u001b[0m \u001b[0;32min\u001b[0m \u001b[0maxes\u001b[0m\u001b[0;34m.\u001b[0m\u001b[0mitems\u001b[0m\u001b[0;34m(\u001b[0m\u001b[0;34m)\u001b[0m\u001b[0;34m:\u001b[0m\u001b[0;34m\u001b[0m\u001b[0m\n\u001b[1;32m   2529\u001b[0m             \u001b[0;32mif\u001b[0m \u001b[0mlabels\u001b[0m \u001b[0;32mis\u001b[0m \u001b[0;32mnot\u001b[0m \u001b[0;32mNone\u001b[0m\u001b[0;34m:\u001b[0m\u001b[0;34m\u001b[0m\u001b[0m\n\u001b[0;32m-> 2530\u001b[0;31m                 \u001b[0mobj\u001b[0m \u001b[0;34m=\u001b[0m \u001b[0mobj\u001b[0m\u001b[0;34m.\u001b[0m\u001b[0m_drop_axis\u001b[0m\u001b[0;34m(\u001b[0m\u001b[0mlabels\u001b[0m\u001b[0;34m,\u001b[0m \u001b[0maxis\u001b[0m\u001b[0;34m,\u001b[0m \u001b[0mlevel\u001b[0m\u001b[0;34m=\u001b[0m\u001b[0mlevel\u001b[0m\u001b[0;34m,\u001b[0m \u001b[0merrors\u001b[0m\u001b[0;34m=\u001b[0m\u001b[0merrors\u001b[0m\u001b[0;34m)\u001b[0m\u001b[0;34m\u001b[0m\u001b[0m\n\u001b[0m\u001b[1;32m   2531\u001b[0m \u001b[0;34m\u001b[0m\u001b[0m\n\u001b[1;32m   2532\u001b[0m         \u001b[0;32mif\u001b[0m \u001b[0minplace\u001b[0m\u001b[0;34m:\u001b[0m\u001b[0;34m\u001b[0m\u001b[0m\n",
      "\u001b[0;32m~/anaconda3/lib/python3.6/site-packages/pandas/core/generic.py\u001b[0m in \u001b[0;36m_drop_axis\u001b[0;34m(self, labels, axis, level, errors)\u001b[0m\n\u001b[1;32m   2560\u001b[0m                 \u001b[0mnew_axis\u001b[0m \u001b[0;34m=\u001b[0m \u001b[0maxis\u001b[0m\u001b[0;34m.\u001b[0m\u001b[0mdrop\u001b[0m\u001b[0;34m(\u001b[0m\u001b[0mlabels\u001b[0m\u001b[0;34m,\u001b[0m \u001b[0mlevel\u001b[0m\u001b[0;34m=\u001b[0m\u001b[0mlevel\u001b[0m\u001b[0;34m,\u001b[0m \u001b[0merrors\u001b[0m\u001b[0;34m=\u001b[0m\u001b[0merrors\u001b[0m\u001b[0;34m)\u001b[0m\u001b[0;34m\u001b[0m\u001b[0m\n\u001b[1;32m   2561\u001b[0m             \u001b[0;32melse\u001b[0m\u001b[0;34m:\u001b[0m\u001b[0;34m\u001b[0m\u001b[0m\n\u001b[0;32m-> 2562\u001b[0;31m                 \u001b[0mnew_axis\u001b[0m \u001b[0;34m=\u001b[0m \u001b[0maxis\u001b[0m\u001b[0;34m.\u001b[0m\u001b[0mdrop\u001b[0m\u001b[0;34m(\u001b[0m\u001b[0mlabels\u001b[0m\u001b[0;34m,\u001b[0m \u001b[0merrors\u001b[0m\u001b[0;34m=\u001b[0m\u001b[0merrors\u001b[0m\u001b[0;34m)\u001b[0m\u001b[0;34m\u001b[0m\u001b[0m\n\u001b[0m\u001b[1;32m   2563\u001b[0m             \u001b[0mdropped\u001b[0m \u001b[0;34m=\u001b[0m \u001b[0mself\u001b[0m\u001b[0;34m.\u001b[0m\u001b[0mreindex\u001b[0m\u001b[0;34m(\u001b[0m\u001b[0;34m**\u001b[0m\u001b[0;34m{\u001b[0m\u001b[0maxis_name\u001b[0m\u001b[0;34m:\u001b[0m \u001b[0mnew_axis\u001b[0m\u001b[0;34m}\u001b[0m\u001b[0;34m)\u001b[0m\u001b[0;34m\u001b[0m\u001b[0m\n\u001b[1;32m   2564\u001b[0m             \u001b[0;32mtry\u001b[0m\u001b[0;34m:\u001b[0m\u001b[0;34m\u001b[0m\u001b[0m\n",
      "\u001b[0;32m~/anaconda3/lib/python3.6/site-packages/pandas/core/indexes/base.py\u001b[0m in \u001b[0;36mdrop\u001b[0;34m(self, labels, errors)\u001b[0m\n\u001b[1;32m   3742\u001b[0m             \u001b[0;32mif\u001b[0m \u001b[0merrors\u001b[0m \u001b[0;34m!=\u001b[0m \u001b[0;34m'ignore'\u001b[0m\u001b[0;34m:\u001b[0m\u001b[0;34m\u001b[0m\u001b[0m\n\u001b[1;32m   3743\u001b[0m                 raise ValueError('labels %s not contained in axis' %\n\u001b[0;32m-> 3744\u001b[0;31m                                  labels[mask])\n\u001b[0m\u001b[1;32m   3745\u001b[0m             \u001b[0mindexer\u001b[0m \u001b[0;34m=\u001b[0m \u001b[0mindexer\u001b[0m\u001b[0;34m[\u001b[0m\u001b[0;34m~\u001b[0m\u001b[0mmask\u001b[0m\u001b[0;34m]\u001b[0m\u001b[0;34m\u001b[0m\u001b[0m\n\u001b[1;32m   3746\u001b[0m         \u001b[0;32mreturn\u001b[0m \u001b[0mself\u001b[0m\u001b[0;34m.\u001b[0m\u001b[0mdelete\u001b[0m\u001b[0;34m(\u001b[0m\u001b[0mindexer\u001b[0m\u001b[0;34m)\u001b[0m\u001b[0;34m\u001b[0m\u001b[0m\n",
      "\u001b[0;31mValueError\u001b[0m: labels ['BRL_FX_Spot' '50d_200d_cross' 'CA' 'TB' 'rate' 'REER_discount' 'budget'] not contained in axis"
     ]
    }
   ],
   "source": [
    "df=df_original.copy()\n",
    "\n",
    "\n",
    "for i in range(1,30):\n",
    "   \n",
    "    df['BRL_FX_Spot_ret'] = np.log(1/df_original['BRL_FX_Spot']).diff(i).iloc[i:]  \n",
    "    #df_original['BRL_FX_Spot_ret'] = (1/df_original['BRL_FX_Spot']).diff(i).iloc[i:] \n",
    "    #df['50d_200d_cross_lgd']=df_original['50d_200d_cross'].shift(i)\n",
    "    df['CA_diff_lgd']=df_original['CA'].diff(i).shift(i)\n",
    "    df['TB_1gd']=df_original['TB'].diff(i).shift(i)\n",
    "    df['rate_diff_lgd']=df_original['rate'].diff(i).shift(i)\n",
    "    df['REER_discount_lgd']=df_original['REER_discount'].diff(i).shift(i)\n",
    "    df['budget_diff_lgd']=df_original['budget'].diff(i).shift(i)\n",
    "\n",
    "    #remove all na\n",
    "    df.dropna(axis=0, how='any',inplace=True)\n",
    "\n",
    "    #drop old cols\n",
    "    df=df.drop(['BRL_FX_Spot','50d_200d_cross','CA','TB','rate','REER_discount','budget'],axis=1)\n",
    "\n",
    "    ## training preparation\n",
    "    # separate X and Y\n",
    "    y=df['BRL_FX_Spot_ret']\n",
    "    X=df.drop('BRL_FX_Spot_ret', axis=1) \n",
    "\n",
    "\n",
    "    # train and test splitting by order\n",
    "    split=int(round(X.shape[0]*0.7,0))\n",
    "    end=int(round(X.shape[0],0))+1\n",
    "    X_train=X.iloc[0:split]\n",
    "    y_train=y.iloc[0:split]\n",
    "    X_test=X.iloc[split:end]\n",
    "    y_test=y.iloc[split:end]\n",
    "\n",
    "\n",
    "    ## training\n",
    "    # perform linear fitting\n",
    "    lr_model1 = LinearRegression()\n",
    "    lr_model1.fit(X_train,y_train)\n",
    "\n",
    "    ## generate results\n",
    "\n",
    "    # generate score for training and testing\n",
    "    train_score = lr_model1.score(X_train,y_train)\n",
    "    test_score = lr_model1.score(X_test,y_test)\n",
    "    training.append(train_score)\n",
    "    testing.append(test_score)\n",
    "\n",
    "    print(\"For {0} lags, the training score is {1} and the testing score is {2}\".format(i, train_score, test_score ))\n"
   ]
  },
  {
   "cell_type": "markdown",
   "metadata": {},
   "source": [
    "# VAR model\n",
    "---"
   ]
  },
  {
   "cell_type": "code",
   "execution_count": 108,
   "metadata": {},
   "outputs": [],
   "source": [
    "# import models\n",
    "from statsmodels.tsa.api import VAR\n",
    "from statsmodels.tsa.statespace.varmax import VARMAX"
   ]
  },
  {
   "cell_type": "code",
   "execution_count": 121,
   "metadata": {},
   "outputs": [
    {
     "data": {
      "text/html": [
       "<div>\n",
       "<style scoped>\n",
       "    .dataframe tbody tr th:only-of-type {\n",
       "        vertical-align: middle;\n",
       "    }\n",
       "\n",
       "    .dataframe tbody tr th {\n",
       "        vertical-align: top;\n",
       "    }\n",
       "\n",
       "    .dataframe thead th {\n",
       "        text-align: right;\n",
       "    }\n",
       "</style>\n",
       "<table border=\"1\" class=\"dataframe\">\n",
       "  <thead>\n",
       "    <tr style=\"text-align: right;\">\n",
       "      <th></th>\n",
       "      <th>BRL_FX_Spot</th>\n",
       "      <th>50d_200d_cross</th>\n",
       "      <th>CA</th>\n",
       "      <th>TB</th>\n",
       "      <th>rate</th>\n",
       "      <th>REER_discount</th>\n",
       "      <th>budget</th>\n",
       "    </tr>\n",
       "    <tr>\n",
       "      <th>Dates</th>\n",
       "      <th></th>\n",
       "      <th></th>\n",
       "      <th></th>\n",
       "      <th></th>\n",
       "      <th></th>\n",
       "      <th></th>\n",
       "      <th></th>\n",
       "    </tr>\n",
       "  </thead>\n",
       "  <tbody>\n",
       "    <tr>\n",
       "      <th>6/20/02</th>\n",
       "      <td>2.8015</td>\n",
       "      <td>1</td>\n",
       "      <td>-3.55</td>\n",
       "      <td>385</td>\n",
       "      <td>18.8514</td>\n",
       "      <td>-0.114198</td>\n",
       "      <td>-3.25</td>\n",
       "    </tr>\n",
       "    <tr>\n",
       "      <th>6/21/02</th>\n",
       "      <td>2.8305</td>\n",
       "      <td>1</td>\n",
       "      <td>-3.55</td>\n",
       "      <td>385</td>\n",
       "      <td>21.9522</td>\n",
       "      <td>-0.131145</td>\n",
       "      <td>-3.25</td>\n",
       "    </tr>\n",
       "    <tr>\n",
       "      <th>6/24/02</th>\n",
       "      <td>2.7740</td>\n",
       "      <td>1</td>\n",
       "      <td>-3.55</td>\n",
       "      <td>385</td>\n",
       "      <td>20.4583</td>\n",
       "      <td>-0.136943</td>\n",
       "      <td>-3.25</td>\n",
       "    </tr>\n",
       "    <tr>\n",
       "      <th>6/25/02</th>\n",
       "      <td>2.8290</td>\n",
       "      <td>1</td>\n",
       "      <td>-3.55</td>\n",
       "      <td>385</td>\n",
       "      <td>20.5171</td>\n",
       "      <td>-0.126762</td>\n",
       "      <td>-3.25</td>\n",
       "    </tr>\n",
       "    <tr>\n",
       "      <th>6/26/02</th>\n",
       "      <td>2.8805</td>\n",
       "      <td>1</td>\n",
       "      <td>-3.55</td>\n",
       "      <td>385</td>\n",
       "      <td>20.6130</td>\n",
       "      <td>-0.144215</td>\n",
       "      <td>-3.25</td>\n",
       "    </tr>\n",
       "  </tbody>\n",
       "</table>\n",
       "</div>"
      ],
      "text/plain": [
       "         BRL_FX_Spot  50d_200d_cross    CA   TB     rate  REER_discount  \\\n",
       "Dates                                                                     \n",
       "6/20/02       2.8015               1 -3.55  385  18.8514      -0.114198   \n",
       "6/21/02       2.8305               1 -3.55  385  21.9522      -0.131145   \n",
       "6/24/02       2.7740               1 -3.55  385  20.4583      -0.136943   \n",
       "6/25/02       2.8290               1 -3.55  385  20.5171      -0.126762   \n",
       "6/26/02       2.8805               1 -3.55  385  20.6130      -0.144215   \n",
       "\n",
       "         budget  \n",
       "Dates            \n",
       "6/20/02   -3.25  \n",
       "6/21/02   -3.25  \n",
       "6/24/02   -3.25  \n",
       "6/25/02   -3.25  \n",
       "6/26/02   -3.25  "
      ]
     },
     "execution_count": 121,
     "metadata": {},
     "output_type": "execute_result"
    }
   ],
   "source": [
    "# import data\n",
    "df_var = pd.read_csv('./EM_FX_data_time_series.csv',index_col='Dates')\n",
    "df_var.head(5)"
   ]
  },
  {
   "cell_type": "code",
   "execution_count": 122,
   "metadata": {},
   "outputs": [],
   "source": [
    "# log return for 'BRL_FX_Spot'\n",
    "df_var['BRL_FX_Spot_ret'] = np.log(df_var['BRL_FX_Spot']).diff().iloc[1:]  \n",
    "# break down for reference\n",
    "    # step1 = np.log(df_var['BRL_FX_Spot'])\n",
    "    # step2 = step1.diff()\n",
    "    # step3 = step2.iloc[1:]\n",
    "df_var['BRL_FX_Spot_ret'].dropna() "
   ]
  },
  {
   "cell_type": "code",
   "execution_count": 123,
   "metadata": {},
   "outputs": [
    {
     "data": {
      "text/plain": [
       "Dates\n",
       "6/20/02         NaN\n",
       "6/21/02    0.010298\n",
       "6/24/02   -0.020163\n",
       "6/25/02    0.019633\n",
       "6/26/02    0.018041\n",
       "Name: BRL_FX_Spot_ret, dtype: float64"
      ]
     },
     "execution_count": 123,
     "metadata": {},
     "output_type": "execute_result"
    }
   ],
   "source": [
    "df_var['BRL_FX_Spot_ret'].head(5)"
   ]
  },
  {
   "cell_type": "code",
   "execution_count": 125,
   "metadata": {},
   "outputs": [],
   "source": [
    "df_var.dropna(axis=0, how='any',inplace=True)"
   ]
  },
  {
   "cell_type": "code",
   "execution_count": 126,
   "metadata": {},
   "outputs": [
    {
     "data": {
      "text/html": [
       "<div>\n",
       "<style scoped>\n",
       "    .dataframe tbody tr th:only-of-type {\n",
       "        vertical-align: middle;\n",
       "    }\n",
       "\n",
       "    .dataframe tbody tr th {\n",
       "        vertical-align: top;\n",
       "    }\n",
       "\n",
       "    .dataframe thead th {\n",
       "        text-align: right;\n",
       "    }\n",
       "</style>\n",
       "<table border=\"1\" class=\"dataframe\">\n",
       "  <thead>\n",
       "    <tr style=\"text-align: right;\">\n",
       "      <th></th>\n",
       "      <th>BRL_FX_Spot</th>\n",
       "      <th>50d_200d_cross</th>\n",
       "      <th>CA</th>\n",
       "      <th>TB</th>\n",
       "      <th>rate</th>\n",
       "      <th>REER_discount</th>\n",
       "      <th>budget</th>\n",
       "      <th>BRL_FX_Spot_ret</th>\n",
       "    </tr>\n",
       "    <tr>\n",
       "      <th>Dates</th>\n",
       "      <th></th>\n",
       "      <th></th>\n",
       "      <th></th>\n",
       "      <th></th>\n",
       "      <th></th>\n",
       "      <th></th>\n",
       "      <th></th>\n",
       "      <th></th>\n",
       "    </tr>\n",
       "  </thead>\n",
       "  <tbody>\n",
       "    <tr>\n",
       "      <th>6/21/02</th>\n",
       "      <td>2.8305</td>\n",
       "      <td>1</td>\n",
       "      <td>-3.55</td>\n",
       "      <td>385</td>\n",
       "      <td>21.9522</td>\n",
       "      <td>-0.131145</td>\n",
       "      <td>-3.25</td>\n",
       "      <td>0.010298</td>\n",
       "    </tr>\n",
       "    <tr>\n",
       "      <th>6/24/02</th>\n",
       "      <td>2.7740</td>\n",
       "      <td>1</td>\n",
       "      <td>-3.55</td>\n",
       "      <td>385</td>\n",
       "      <td>20.4583</td>\n",
       "      <td>-0.136943</td>\n",
       "      <td>-3.25</td>\n",
       "      <td>-0.020163</td>\n",
       "    </tr>\n",
       "    <tr>\n",
       "      <th>6/25/02</th>\n",
       "      <td>2.8290</td>\n",
       "      <td>1</td>\n",
       "      <td>-3.55</td>\n",
       "      <td>385</td>\n",
       "      <td>20.5171</td>\n",
       "      <td>-0.126762</td>\n",
       "      <td>-3.25</td>\n",
       "      <td>0.019633</td>\n",
       "    </tr>\n",
       "    <tr>\n",
       "      <th>6/26/02</th>\n",
       "      <td>2.8805</td>\n",
       "      <td>1</td>\n",
       "      <td>-3.55</td>\n",
       "      <td>385</td>\n",
       "      <td>20.6130</td>\n",
       "      <td>-0.144215</td>\n",
       "      <td>-3.25</td>\n",
       "      <td>0.018041</td>\n",
       "    </tr>\n",
       "    <tr>\n",
       "      <th>6/27/02</th>\n",
       "      <td>2.8310</td>\n",
       "      <td>1</td>\n",
       "      <td>-3.55</td>\n",
       "      <td>385</td>\n",
       "      <td>18.7997</td>\n",
       "      <td>-0.150601</td>\n",
       "      <td>-3.25</td>\n",
       "      <td>-0.017334</td>\n",
       "    </tr>\n",
       "  </tbody>\n",
       "</table>\n",
       "</div>"
      ],
      "text/plain": [
       "         BRL_FX_Spot  50d_200d_cross    CA   TB     rate  REER_discount  \\\n",
       "Dates                                                                     \n",
       "6/21/02       2.8305               1 -3.55  385  21.9522      -0.131145   \n",
       "6/24/02       2.7740               1 -3.55  385  20.4583      -0.136943   \n",
       "6/25/02       2.8290               1 -3.55  385  20.5171      -0.126762   \n",
       "6/26/02       2.8805               1 -3.55  385  20.6130      -0.144215   \n",
       "6/27/02       2.8310               1 -3.55  385  18.7997      -0.150601   \n",
       "\n",
       "         budget  BRL_FX_Spot_ret  \n",
       "Dates                             \n",
       "6/21/02   -3.25         0.010298  \n",
       "6/24/02   -3.25        -0.020163  \n",
       "6/25/02   -3.25         0.019633  \n",
       "6/26/02   -3.25         0.018041  \n",
       "6/27/02   -3.25        -0.017334  "
      ]
     },
     "execution_count": 126,
     "metadata": {},
     "output_type": "execute_result"
    }
   ],
   "source": [
    "df_var.head(5)"
   ]
  },
  {
   "cell_type": "markdown",
   "metadata": {
    "run_control": {
     "frozen": false,
     "read_only": false
    }
   },
   "source": [
    "## Linear Regression"
   ]
  },
  {
   "cell_type": "code",
   "execution_count": 342,
   "metadata": {
    "ExecuteTime": {
     "end_time": "2018-02-03T19:45:19.288723Z",
     "start_time": "2018-02-03T19:45:19.195324Z"
    },
    "run_control": {
     "frozen": false,
     "read_only": false
    }
   },
   "outputs": [
    {
     "data": {
      "text/plain": [
       "LinearRegression(copy_X=True, fit_intercept=True, n_jobs=1, normalize=False)"
      ]
     },
     "execution_count": 342,
     "metadata": {},
     "output_type": "execute_result"
    }
   ],
   "source": [
    "## LinearRegression model with only numeric predictors\n",
    "## SalePrice as the target\n",
    "\n",
    "lr_model1 = LinearRegression()\n",
    "lr_model1.fit(X_train,y_train)"
   ]
  },
  {
   "cell_type": "code",
   "execution_count": 343,
   "metadata": {
    "ExecuteTime": {
     "end_time": "2018-02-03T19:45:19.729206Z",
     "start_time": "2018-02-03T19:45:19.722934Z"
    },
    "run_control": {
     "frozen": false,
     "read_only": false
    }
   },
   "outputs": [
    {
     "data": {
      "text/plain": [
       "0.003600528849422081"
      ]
     },
     "execution_count": 343,
     "metadata": {},
     "output_type": "execute_result"
    }
   ],
   "source": [
    "## Let us look at the (single) variable coefficient and the intercept\n",
    "lr_model1.intercept_"
   ]
  },
  {
   "cell_type": "code",
   "execution_count": 344,
   "metadata": {},
   "outputs": [
    {
     "data": {
      "text/plain": [
       "[('50d_200d_cross_lgd', -0.0015850308541282237),\n",
       " ('CA_diff_lgd', 0.0014966626411016834),\n",
       " ('TB_1gd', 1.3233075219298295e-06),\n",
       " ('rate_diff_lgd', 0.0014084118029978408),\n",
       " ('REER_discount_lgd', 0.039178753284984824),\n",
       " ('budget_diff_lgd', -0.019278656928800222)]"
      ]
     },
     "execution_count": 344,
     "metadata": {},
     "output_type": "execute_result"
    }
   ],
   "source": [
    "list(zip(X_train.columns,lr_model1.coef_))"
   ]
  },
  {
   "cell_type": "code",
   "execution_count": 345,
   "metadata": {
    "ExecuteTime": {
     "end_time": "2018-02-03T19:47:32.782054Z",
     "start_time": "2018-02-03T19:47:32.720516Z"
    },
    "run_control": {
     "frozen": false,
     "read_only": false
    }
   },
   "outputs": [
    {
     "data": {
      "text/plain": [
       "array([-0.00419347, -0.00391793, -0.00447315, ..., -0.01838777,\n",
       "       -0.01852147, -0.01883643])"
      ]
     },
     "execution_count": 345,
     "metadata": {},
     "output_type": "execute_result"
    }
   ],
   "source": [
    "# Getting predictions of the model on the test set\n",
    "\n",
    "test_set_pred1 = lr_model1.predict(X_test)\n",
    "test_set_pred1"
   ]
  },
  {
   "cell_type": "code",
   "execution_count": 346,
   "metadata": {},
   "outputs": [
    {
     "data": {
      "text/plain": [
       "50d_200d_cross_lgd      1.000000\n",
       "CA_diff_lgd             0.080000\n",
       "TB_1gd                933.000000\n",
       "rate_diff_lgd           0.355300\n",
       "REER_discount_lgd      -0.043212\n",
       "budget_diff_lgd         1.090000\n",
       "Name: 6/15/18, dtype: float64"
      ]
     },
     "execution_count": 346,
     "metadata": {},
     "output_type": "execute_result"
    }
   ],
   "source": [
    "X_test.loc['6/15/18']"
   ]
  },
  {
   "cell_type": "code",
   "execution_count": 347,
   "metadata": {},
   "outputs": [
    {
     "data": {
      "text/plain": [
       "-0.04564197177838958"
      ]
     },
     "execution_count": 347,
     "metadata": {},
     "output_type": "execute_result"
    }
   ],
   "source": [
    "y_test.loc['6/15/18']"
   ]
  },
  {
   "cell_type": "code",
   "execution_count": 348,
   "metadata": {
    "ExecuteTime": {
     "end_time": "2018-02-03T19:47:34.083215Z",
     "start_time": "2018-02-03T19:47:33.614607Z"
    },
    "run_control": {
     "frozen": false,
     "read_only": false
    }
   },
   "outputs": [
    {
     "data": {
      "image/png": "[encoded data removed]",
      "text/plain": [
       "<matplotlib.figure.Figure at 0x1c20786208>"
      ]
     },
     "metadata": {},
     "output_type": "display_data"
    }
   ],
   "source": [
    "## Plotting the actual vs expected house price (along with the line x=y for reference)\n",
    "plt.figure(figsize=(10,8))\n",
    "plt.scatter(test_set_pred1,y_test,alpha=.1)\n",
    "plt.plot(np.linspace(0,5,1000),np.linspace(0,5,1000))\n",
    "plt.xlabel(\"Predicted\")\n",
    "plt.ylabel(\"Actual\");"
   ]
  },
  {
   "cell_type": "code",
   "execution_count": 349,
   "metadata": {},
   "outputs": [
    {
     "data": {
      "text/plain": [
       "0.019320642507519414"
      ]
     },
     "execution_count": 349,
     "metadata": {},
     "output_type": "execute_result"
    }
   ],
   "source": [
    "lr_model1.score(X_train,y_train)"
   ]
  },
  {
   "cell_type": "code",
   "execution_count": 350,
   "metadata": {},
   "outputs": [
    {
     "data": {
      "text/plain": [
       "-0.1704131415340291"
      ]
     },
     "execution_count": 350,
     "metadata": {},
     "output_type": "execute_result"
    }
   ],
   "source": [
    "lr_model1.score(X_test,y_test)"
   ]
  },
  {
   "cell_type": "markdown",
   "metadata": {},
   "source": [
    "### Tree methods"
   ]
  },
  {
   "cell_type": "code",
   "execution_count": 370,
   "metadata": {},
   "outputs": [
    {
     "data": {
      "text/plain": [
       "RandomForestRegressor(bootstrap=True, criterion='mse', max_depth=10,\n",
       "           max_features='auto', max_leaf_nodes=None,\n",
       "           min_impurity_decrease=0.0, min_impurity_split=None,\n",
       "           min_samples_leaf=1, min_samples_split=2,\n",
       "           min_weight_fraction_leaf=0.0, n_estimators=10, n_jobs=1,\n",
       "           oob_score=False, random_state=0, verbose=0, warm_start=False)"
      ]
     },
     "execution_count": 370,
     "metadata": {},
     "output_type": "execute_result"
    }
   ],
   "source": [
    "from sklearn.ensemble import RandomForestRegressor\n",
    "\n",
    "regr = RandomForestRegressor(max_depth=10, random_state=0)\n",
    "regr.fit(X_train, y_train)\n"
   ]
  },
  {
   "cell_type": "code",
   "execution_count": 371,
   "metadata": {},
   "outputs": [
    {
     "data": {
      "text/plain": [
       "array([ 0.00328878,  0.00328878,  0.00495069, ..., -0.07366319,\n",
       "       -0.05104285, -0.05104285])"
      ]
     },
     "execution_count": 371,
     "metadata": {},
     "output_type": "execute_result"
    }
   ],
   "source": [
    "regr.predict(X_test)"
   ]
  },
  {
   "cell_type": "code",
   "execution_count": 372,
   "metadata": {},
   "outputs": [
    {
     "data": {
      "text/plain": [
       "-0.8932048262384671"
      ]
     },
     "execution_count": 372,
     "metadata": {},
     "output_type": "execute_result"
    }
   ],
   "source": [
    "regr.score(X_test, y_test)"
   ]
  },
  {
   "cell_type": "code",
   "execution_count": 373,
   "metadata": {},
   "outputs": [
    {
     "data": {
      "text/plain": [
       "array([0.02612042, 0.13407774, 0.21339476, 0.20518812, 0.22710592,\n",
       "       0.19411304])"
      ]
     },
     "execution_count": 373,
     "metadata": {},
     "output_type": "execute_result"
    }
   ],
   "source": [
    "regr.feature_importances_"
   ]
  },
  {
   "cell_type": "code",
   "execution_count": null,
   "metadata": {},
   "outputs": [],
   "source": []
  }
 ],
 "metadata": {
  "kernelspec": {
   "display_name": "Python 3",
   "language": "python",
   "name": "python3"
  },
  "language_info": {
   "codemirror_mode": {
    "name": "ipython",
    "version": 3
   },
   "file_extension": ".py",
   "mimetype": "text/x-python",
   "name": "python",
   "nbconvert_exporter": "python",
   "pygments_lexer": "ipython3",
   "version": "3.6.4"
  },
  "latex_envs": {
   "LaTeX_envs_menu_present": true,
   "bibliofile": "biblio.bib",
   "cite_by": "apalike",
   "current_citInitial": 1,
   "eqLabelWithNumbers": true,
   "eqNumInitial": 1,
   "hotkeys": {
    "equation": "Ctrl-E",
    "itemize": "Ctrl-I"
   },
   "labels_anchors": false,
   "latex_user_defs": false,
   "report_style_numbering": false,
   "user_envs_cfg": false
  },
  "toc": {
   "nav_menu": {
    "height": "282px",
    "width": "252px"
   },
   "number_sections": true,
   "sideBar": true,
   "skip_h1_title": false,
   "toc_cell": false,
   "toc_position": {},
   "toc_section_display": "block",
   "toc_window_display": false
  },
  "varInspector": {
   "cols": {
    "lenName": 16,
    "lenType": 16,
    "lenVar": 40
   },
   "kernels_config": {
    "python": {
     "delete_cmd_postfix": "",
     "delete_cmd_prefix": "del ",
     "library": "var_list.py",
     "varRefreshCmd": "print(var_dic_list())"
    },
    "r": {
     "delete_cmd_postfix": ") ",
     "delete_cmd_prefix": "rm(",
     "library": "var_list.r",
     "varRefreshCmd": "cat(var_dic_list()) "
    }
   },
   "types_to_exclude": [
    "module",
    "function",
    "builtin_function_or_method",
    "instance",
    "_Feature"
   ],
   "window_display": false
  }
 },
 "nbformat": 4,
 "nbformat_minor": 1
}
